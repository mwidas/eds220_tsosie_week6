{
 "cells": [
  {
   "cell_type": "markdown",
   "id": "b7433637-2070-46d7-a8c7-6e7df92f10d1",
   "metadata": {},
   "source": [
    "## Stac Specification\n",
    "\n",
    "So far in our course we have accessed data in two ways: by downloading it directly from the data provider or by loading a specific dataset via a URL. This can be a convenient way to access targeted datasets, often usign GUIs (graphical user interfaces) for data discovery and filtering. However, relying on clicking and copy-pasting addresses and file names can make our workflows more error-prone and less reproducible. In particular, satellites around the world produce terabytes of new data daily and manually browsing through data repositories would it make hard to access this data. Moreover, we wouldn’t want to learn a new way to access data from every single big data provider. This is where STAC comes in.\n",
    "\n",
    "The SpatioTemporal Asset Catalog (STAC) is an emerging open standard for geospatial data that aims to increase the interoperability of geospatial data, particularly satellite imagery. Major satellite imagery datasets like X, Y, and many others, now follow the STAC specification.\n",
    "\n",
    "In the next classes we’ll be working with the Microsoft’s Planetary Computer (MPC) STAC API. The MPC is both a geospatial coding environment and a STAC data catalogue. In this lesson we will learn about the main components of a STAC catalog and how to search for data using the MPC’s STAC API.\n"
   ]
  },
  {
   "cell_type": "markdown",
   "id": "b562688c-5ac0-43c1-85db-9e55932d7c2d",
   "metadata": {},
   "source": [
    "## Item, Collection, and Catalog\n",
    "\n",
    "The STAC item (or just item) is the building block of a STAC. An item is a GeoJSON feature with additional fields that make it easier to find the item as we look for data across catalogs.\n",
    "\n",
    "An item holds two types of information:\n",
    "\n",
    "**Metadata**: The metadata for a STAC item includes core identifying information (such as id, geometry, bounding box, and date), and additional properties (for example, place of collection).\n",
    "\n",
    "**Assets**: Assets are the links to the actual data of the item (for example, links to the spectral bands of a satellite image.)\n",
    "\n",
    "STAC items can be grouped into STAC collections (or just collections). For example, while a single satellite scene (at a single time and location) would constitue an item, scenes across time and location from the same satellite can be orgnanized in a collection. Finally, multiple collections can be organized into a single STAC catalog.\n",
    "\n",
    "## API\n",
    "\n",
    "To request data from a catalog following the STAC standard we use an Application Programming Interface (API). We can think of an API as an intermediary tasked with sending our request for data to the data catalog and getting the response from the catalog back to us.\n",
    "\n",
    "The Python package to access APIs for STAC catalogs is `pystac_client`. Our goal in this lesson is to retrieve NAIP data from the MPC’s data catalog via its STAC API. We’ll be doing this within the MPC’s hub.\n"
   ]
  },
  {
   "cell_type": "code",
   "execution_count": 3,
   "id": "4b35efc5-95ae-4fec-9ebb-6eda6c32109d",
   "metadata": {
    "tags": []
   },
   "outputs": [
    {
     "name": "stdout",
     "output_type": "stream",
     "text": [
      "Defaulting to user installation because normal site-packages is not writeable\n",
      "Requirement already satisfied: pystac in /Users/mwidas/.local/lib/python3.9/site-packages (1.9.0)\n",
      "Requirement already satisfied: python-dateutil>=2.7.0 in /opt/anaconda3/lib/python3.9/site-packages (from pystac) (2.8.2)\n",
      "Requirement already satisfied: six>=1.5 in /opt/anaconda3/lib/python3.9/site-packages (from python-dateutil>=2.7.0->pystac) (1.16.0)\n",
      "Note: you may need to restart the kernel to use updated packages.\n"
     ]
    }
   ],
   "source": [
    "pip install pystac"
   ]
  },
  {
   "cell_type": "code",
   "execution_count": 1,
   "id": "159698e9-6c6d-4c6d-b29f-9a04b4d50dc8",
   "metadata": {
    "tags": []
   },
   "outputs": [
    {
     "ename": "ModuleNotFoundError",
     "evalue": "No module named 'pystac_client'",
     "output_type": "error",
     "traceback": [
      "\u001b[0;31m---------------------------------------------------------------------------\u001b[0m",
      "\u001b[0;31mModuleNotFoundError\u001b[0m                       Traceback (most recent call last)",
      "\u001b[0;32m/tmp/ipykernel_866116/311422470.py\u001b[0m in \u001b[0;36m<module>\u001b[0;34m\u001b[0m\n\u001b[1;32m      8\u001b[0m \u001b[0;34m\u001b[0m\u001b[0m\n\u001b[1;32m      9\u001b[0m \u001b[0;31m# used to access STAC catalogs\u001b[0m\u001b[0;34m\u001b[0m\u001b[0;34m\u001b[0m\u001b[0m\n\u001b[0;32m---> 10\u001b[0;31m \u001b[0;32mfrom\u001b[0m \u001b[0mpystac_client\u001b[0m \u001b[0;32mimport\u001b[0m \u001b[0mClient\u001b[0m\u001b[0;34m\u001b[0m\u001b[0;34m\u001b[0m\u001b[0m\n\u001b[0m\u001b[1;32m     11\u001b[0m \u001b[0;31m# used to sign items from the MPC STAC catalog\u001b[0m\u001b[0;34m\u001b[0m\u001b[0;34m\u001b[0m\u001b[0m\n\u001b[1;32m     12\u001b[0m \u001b[0;32mimport\u001b[0m \u001b[0mplanetary_computer\u001b[0m\u001b[0;34m\u001b[0m\u001b[0;34m\u001b[0m\u001b[0m\n",
      "\u001b[0;31mModuleNotFoundError\u001b[0m: No module named 'pystac_client'"
     ]
    }
   ],
   "source": [
    "import pandas as pd\n",
    "import numpy as np\n",
    "import geopandas as gpd\n",
    "import rioxarray as rioxr\n",
    "import matplotlib.pyplot as plt\n",
    "\n",
    "from shapely.geometry import Polygon\n",
    "\n",
    "# used to access STAC catalogs\n",
    "from pystac_client import Client\n",
    "# used to sign items from the MPC STAC catalog\n",
    "import planetary_computer\n",
    "\n",
    "# ----- other libraries for nice ouputs\n",
    "from IPython.display import Image"
   ]
  },
  {
   "cell_type": "code",
   "execution_count": null,
   "id": "7e123353-b15c-4a3f-8876-dd096c388b99",
   "metadata": {},
   "outputs": [],
   "source": [
    "# access catalog\n",
    "catalog = Client.open(\n",
    "    \"https://planetarycomputer.microsoft.com/api/stac/v1\",\n",
    "    modifier=planetary_computer.sign_inplace,\n",
    ")"
   ]
  },
  {
   "cell_type": "code",
   "execution_count": null,
   "id": "42c0689b-272f-44f2-9c7b-b676a4221204",
   "metadata": {},
   "outputs": [],
   "source": [
    "# metadata from the catalog\n",
    "#print('ID:', catalog.id)\n",
    "print('Title:', catalog.title)\n",
    "print('Description:', catalog.description)"
   ]
  },
  {
   "cell_type": "code",
   "execution_count": null,
   "id": "5d70f285-04b7-40ae-9007-2d2b477e9334",
   "metadata": {},
   "outputs": [],
   "source": [
    "catalog.get_collections()"
   ]
  },
  {
   "cell_type": "markdown",
   "id": "bc0f1322-df45-46e0-90ca-6c738a657212",
   "metadata": {},
   "source": [
    "Notice the output of `get_collections()` is a generator. This is a special kind of lazy object in Python over which you can loop over like a list. Unlike a list, the items in a generator do not exist in memory until you explicitely iterate over them or convert them to a list. Let’s try getting the collections from the catalog again:"
   ]
  },
  {
   "cell_type": "code",
   "execution_count": null,
   "id": "a89f2207-28c0-48b3-a734-d8f3efe19e96",
   "metadata": {},
   "outputs": [],
   "source": [
    "# get collections and print their names\n",
    "collections = list(catalog.get_collections())\n",
    "\n",
    "print('Number of collections:', len(collections))\n",
    "print(\"Collections IDs:\")\n",
    "for collection in collections:\n",
    "    print('-', collection.id)"
   ]
  },
  {
   "cell_type": "markdown",
   "id": "1851dcc8-0f9d-410c-8924-5ee4270012e1",
   "metadata": {},
   "source": [
    "### Collection\n",
    "\n",
    "We can select a single collection for exploration using the `get_child()` method for the catalog and the collection id as the parameter:"
   ]
  },
  {
   "cell_type": "code",
   "execution_count": null,
   "id": "10d7890a-9701-40a2-b98b-2b2bc65011e0",
   "metadata": {},
   "outputs": [],
   "source": [
    "naip_collection = catalog.get_child('naip')\n",
    "naip_collection"
   ]
  },
  {
   "cell_type": "markdown",
   "id": "3f2d3539-1b8a-423e-b2dc-cbd1f1bd410b",
   "metadata": {},
   "source": [
    "### Catalog Search\n",
    "\n",
    "We can narrow the search withing the catalog by specifying a time range, an area of interest, and the collection name. The simplest ways to define the area of interest to look for data in the catalog are:\n",
    "\n",
    "a GeoJSON-type dictionary with the coordinates of the bounding box,\n",
    "as a list `[xmin, ymin, xmax, ymax]` with the coordinate values defining the four corners of the bounding box.\n",
    "In this lesson we will look for the NAIP scenes over Santa Barbara from 2018 to 2023. We’ll use the `GeoJSON` method to define the area of interest:"
   ]
  },
  {
   "cell_type": "code",
   "execution_count": null,
   "id": "827a9378-17cd-4b6b-b8f8-ceaf010afe4c",
   "metadata": {},
   "outputs": [],
   "source": [
    "# Temporal range of interest\n",
    "time_range = \"2018-01-01/2023-01-01\"\n",
    "\n",
    "# NCEAS bounding box (as a GeoJSON)\n",
    "bbox = {\n",
    "    \"type\": \"Polygon\",\n",
    "    \"coordinates\":[\n",
    "        [\n",
    "            [-119.70608227128903, 34.426300194372274],\n",
    "            [-119.70608227128903, 34.42041139020533],\n",
    "            [-119.6967885126002, 34.42041139020533],\n",
    "            [-119.6967885126002, 34.426300194372274],\n",
    "            [-119.70608227128903, 34.426300194372274]\n",
    "        ]\n",
    "    ],\n",
    "}\n",
    "\n",
    "# catalog search\n",
    "search = catalog.search(\n",
    "    collections=['naip'],\n",
    "    intersects=bbox,\n",
    "    datetime=time_range)\n",
    "search"
   ]
  },
  {
   "cell_type": "markdown",
   "id": "ab9008d9-fc95-4019-a863-3ba276a435c7",
   "metadata": {},
   "source": [
    "To get the items found in the search (or check if there were any matches in the search) we use the `item_collection()` method:"
   ]
  },
  {
   "cell_type": "code",
   "execution_count": null,
   "id": "fa110a17-3235-4b6c-b18b-bf06d30e0c2b",
   "metadata": {},
   "outputs": [],
   "source": [
    "items = search.item_collection()\n",
    "len(items)"
   ]
  },
  {
   "cell_type": "markdown",
   "id": "e93b3309-5df3-400b-9040-a57cc2b69288",
   "metadata": {},
   "source": [
    "This output tells us there were two items in the catalog that matched our search!"
   ]
  },
  {
   "cell_type": "code",
   "execution_count": null,
   "id": "df5fc2f5-201d-48b7-acee-62629674c351",
   "metadata": {},
   "outputs": [],
   "source": [
    "items"
   ]
  },
  {
   "cell_type": "markdown",
   "id": "b314330a-6780-446d-bcb7-63a25201eb4b",
   "metadata": {},
   "source": [
    "### Items"
   ]
  },
  {
   "cell_type": "code",
   "execution_count": null,
   "id": "66e48ced-a696-478d-b8fd-6adb1228c0a2",
   "metadata": {},
   "outputs": [],
   "source": [
    "# get first item in the catalog search\n",
    "item = items[0]\n",
    "type(item)"
   ]
  },
  {
   "cell_type": "markdown",
   "id": "da7fa3cc-833c-4c58-a1d2-a73f9fd9f3bb",
   "metadata": {},
   "source": [
    "Remember the STAC item is the core object in the catalog and. The item does not contain the data itself, but rather metadata about and links to access the actual data (assets). Some of the metadata:"
   ]
  },
  {
   "cell_type": "code",
   "execution_count": 5,
   "id": "c5674e70-57c6-4ba7-9c80-fe5ac4187863",
   "metadata": {
    "tags": []
   },
   "outputs": [
    {
     "ename": "NameError",
     "evalue": "name 'item' is not defined",
     "output_type": "error",
     "traceback": [
      "\u001b[0;31m---------------------------------------------------------------------------\u001b[0m",
      "\u001b[0;31mNameError\u001b[0m                                 Traceback (most recent call last)",
      "\u001b[0;32m/tmp/ipykernel_45412/675145504.py\u001b[0m in \u001b[0;36m<module>\u001b[0;34m\u001b[0m\n\u001b[1;32m      1\u001b[0m \u001b[0;31m# print item id and properties\u001b[0m\u001b[0;34m\u001b[0m\u001b[0;34m\u001b[0m\u001b[0m\n\u001b[0;32m----> 2\u001b[0;31m \u001b[0mprint\u001b[0m\u001b[0;34m(\u001b[0m\u001b[0;34m'id:'\u001b[0m \u001b[0;34m,\u001b[0m \u001b[0mitem\u001b[0m\u001b[0;34m.\u001b[0m\u001b[0mid\u001b[0m\u001b[0;34m)\u001b[0m\u001b[0;34m\u001b[0m\u001b[0;34m\u001b[0m\u001b[0m\n\u001b[0m\u001b[1;32m      3\u001b[0m \u001b[0mitem\u001b[0m\u001b[0;34m.\u001b[0m\u001b[0mproperties\u001b[0m\u001b[0;34m\u001b[0m\u001b[0;34m\u001b[0m\u001b[0m\n",
      "\u001b[0;31mNameError\u001b[0m: name 'item' is not defined"
     ]
    }
   ],
   "source": [
    "# print item id and properties\n",
    "print('id:' , item.id)\n",
    "item.properties"
   ]
  },
  {
   "cell_type": "markdown",
   "id": "3e3495f1-2f29-4712-92da-637b4e6047e9",
   "metadata": {},
   "source": [
    "Just as the item properties, the item assets are given in a dictionary, with each value being an `pystac.asset` Let’s check the assets in the `item`:"
   ]
  },
  {
   "cell_type": "code",
   "execution_count": null,
   "id": "9cebfa5b-0b13-4f9a-9f0f-6b30c6442d00",
   "metadata": {},
   "outputs": [],
   "source": [
    "item.assets"
   ]
  },
  {
   "cell_type": "code",
   "execution_count": null,
   "id": "8a0b3b6a-2511-416d-9fc8-29dd29ee8810",
   "metadata": {},
   "outputs": [],
   "source": [
    "for key in item.assets.keys():\n",
    "    print(key, '--', item.assets[key].title)"
   ]
  },
  {
   "cell_type": "markdown",
   "id": "7da1af02-ed8e-464f-b25c-6ef2d118226b",
   "metadata": {},
   "source": [
    "Notice each asset has an href, which is a link to the asset object (i.e. the data). For example, we can use the URL for the rendered preview asset to plot it:"
   ]
  },
  {
   "cell_type": "code",
   "execution_count": null,
   "id": "91f82156-2997-4d7b-b9ab-403afd6f0260",
   "metadata": {},
   "outputs": [],
   "source": [
    "# plot rendered preview\n",
    "Image(url=item.assets['rendered_preview'].href, width=500)"
   ]
  },
  {
   "cell_type": "markdown",
   "id": "a6cb2da8-91a1-4bca-9160-1e21080151c2",
   "metadata": {},
   "source": [
    "### Load Data\n",
    "\n",
    "The raster data in our current item is in the image asset. Again, we access this data via its URL. This time, we open it using `rioxr.open_rasterio()` directly:"
   ]
  },
  {
   "cell_type": "code",
   "execution_count": null,
   "id": "93ffc748-0fd0-49a3-aeda-d8e9651568eb",
   "metadata": {},
   "outputs": [],
   "source": [
    "sb = rioxr.open_rasterio(item.assets['image'].href)\n",
    "sb"
   ]
  },
  {
   "cell_type": "markdown",
   "id": "ad2d3d35-8ffb-465d-b552-cbc3a64b773b",
   "metadata": {},
   "source": [
    "Notice this raster has four bands. So we cannot use the `.plot.imshow()` method directly (as this function only works when we have three bands). Thus we need select the bands we want to plot (RGB) before plotting:"
   ]
  },
  {
   "cell_type": "code",
   "execution_count": null,
   "id": "1b8ab1df-9582-4594-b3b9-9763f23f3d7e",
   "metadata": {},
   "outputs": [],
   "source": [
    "# plot raster with correct ratio\n",
    "size = 6 # height in in of plot height\n",
    "aspect = sb.rio.width / sb.rio.height \n",
    "# select R,G,B bands and plot\n",
    "sb.sel(band=[1,2,3]).plot.imshow(size=size, aspect=aspect)"
   ]
  },
  {
   "cell_type": "markdown",
   "id": "d51984d3-dfd0-48fd-ab2b-f028ac4cd1c1",
   "metadata": {},
   "source": [
    "## Exercise\n",
    "\n",
    "The ‘cop-dem-glo-90’ collection contains the Copernicus DEM at 90m resolution (the data we previously used for the Grand Canyon).\n",
    "\n",
    "1. Reuse the bbox for Santa Barbara to look for items in this collection.\n",
    "2. Get the first item in the search and check its assets.\n",
    "3. Check the item’s rendered preview asset by clicking on it’s URL.\n",
    "4. Open the item’s data using rioxarray."
   ]
  }
 ],
 "metadata": {
  "kernelspec": {
   "display_name": "Anaconda 3 (Base)",
   "language": "python",
   "name": "base"
  },
  "language_info": {
   "codemirror_mode": {
    "name": "ipython",
    "version": 3
   },
   "file_extension": ".py",
   "mimetype": "text/x-python",
   "name": "python",
   "nbconvert_exporter": "python",
   "pygments_lexer": "ipython3",
   "version": "3.9.13"
  }
 },
 "nbformat": 4,
 "nbformat_minor": 5
}
